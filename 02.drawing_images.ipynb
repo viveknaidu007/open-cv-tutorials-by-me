{
 "cells": [
  {
   "cell_type": "code",
   "execution_count": 3,
   "metadata": {},
   "outputs": [
    {
     "ename": "NameError",
     "evalue": "name 'CV2' is not defined",
     "output_type": "error",
     "traceback": [
      "\u001b[1;31m---------------------------------------------------------------------------\u001b[0m",
      "\u001b[1;31mNameError\u001b[0m                                 Traceback (most recent call last)",
      "Cell \u001b[1;32mIn[3], line 14\u001b[0m\n\u001b[0;32m     11\u001b[0m cv2\u001b[38;5;241m.\u001b[39mimshow(\u001b[38;5;124m\"\u001b[39m\u001b[38;5;124mblack rectangle(bw)\u001b[39m\u001b[38;5;124m\"\u001b[39m , image_bw)\n\u001b[0;32m     13\u001b[0m cv2\u001b[38;5;241m.\u001b[39mwaitKey()\n\u001b[1;32m---> 14\u001b[0m \u001b[43mCV2\u001b[49m\u001b[38;5;241m.\u001b[39mdestroyAllWindows()\n\u001b[0;32m     16\u001b[0m \u001b[38;5;66;03m#\u001b[39;00m\n",
      "\u001b[1;31mNameError\u001b[0m: name 'CV2' is not defined"
     ]
    }
   ],
   "source": [
    "import cv2\n",
    "import numpy as np\n",
    "\n",
    "#creating a black image\n",
    "#here 512,512 are dimentions of image rows=512,columns=512 3 = color or grayscale , uint8 = datatype like zero type\n",
    "image = np.zeros((256,512,3) , np.uint8)  \n",
    "\n",
    "image_bw = np.zeros((512,512) , np.uint8)\n",
    "\n",
    "cv2.imshow(\"black rectangle(color)\" , image)\n",
    "cv2.imshow(\"black rectangle(bw)\" , image_bw)\n",
    "\n",
    "cv2.waitKey()\n",
    "CV2.destroyAllWindows()\n",
    "\n",
    "#"
   ]
  },
  {
   "cell_type": "code",
   "execution_count": 13,
   "metadata": {},
   "outputs": [],
   "source": [
    "#draw a diagram ;ine of thickness 5 pixels\n",
    "\n",
    "#syntax for below line(image source , (starting point) , (ending point) , (colors) , (thickness))\n",
    "cv2.line(image , (0,0), (255,511), (255,127,65), 30)\n",
    "\n",
    "cv2.imshow(\"line\", image)\n",
    "cv2.waitKey()\n",
    "cv2.destroyAllWindows()"
   ]
  },
  {
   "cell_type": "code",
   "execution_count": 25,
   "metadata": {},
   "outputs": [],
   "source": [
    "#lets draw a rectangle\n",
    "#cv2.rectangle(image, starting vertex, opposite vertex , color, thickness)\n",
    "\n",
    "image = np.zeros((512,512,3), np.uint8)\n",
    "cv2.rectangle(image , (100,100), (500,250), (255,255,0) , -1)  #-1 is inside the color of rectangle it will fill\n",
    "cv2.imshow('rectangle', image)\n",
    "cv2.waitKey()\n",
    "cv2.destroyAllWindows()"
   ]
  },
  {
   "cell_type": "code",
   "execution_count": 29,
   "metadata": {},
   "outputs": [],
   "source": [
    "#circles \n",
    "\n",
    "image = np.zeros((512,512,3), np.uint8)\n",
    "cv2.circle(image , (350,350), (100) , (0,255,255) , -1)\n",
    "cv2.imshow('circle' , image)\n",
    "cv2.waitKey(0)  #if we put 0 in waikey parameter it will close the output if we any key \n",
    "cv2.destroyAllWindows()\n",
    "#"
   ]
  },
  {
   "cell_type": "code",
   "execution_count": 31,
   "metadata": {},
   "outputs": [
    {
     "data": {
      "text/plain": [
       "\"cv2.putText(image, 'Text to display' , bottom left starting point, font,fontsize,color,thickness)\\n\\n- FONT_HERSHEY_SIMPLEX, FONT_HERSHEY_PLAIN\\n- FONT_HERSHEY_DUPLEX, FONT_HERSHEY_COMPLEX\\n- FONT_HERSHEY_TRIPLEX, FONT_HERSHEY_COMPLEX_SMALL\\n- FONT_HERSHEY_SCRIPT_SIMPLEX\\n- FONT_HERSHEY_SCRIPT_COMPLEX\\n\\n\""
      ]
     },
     "execution_count": 31,
     "metadata": {},
     "output_type": "execute_result"
    }
   ],
   "source": [
    "#add text with cv2.putText\n",
    "\n",
    "'''cv2.putText(image, 'Text to display' , bottom left starting point, font,fontsize,color,thickness)\n",
    "\n",
    "- FONT_HERSHEY_SIMPLEX, FONT_HERSHEY_PLAIN\n",
    "- FONT_HERSHEY_DUPLEX, FONT_HERSHEY_COMPLEX\n",
    "- FONT_HERSHEY_TRIPLEX, FONT_HERSHEY_COMPLEX_SMALL\n",
    "- FONT_HERSHEY_SCRIPT_SIMPLEX\n",
    "- FONT_HERSHEY_SCRIPT_COMPLEX\n",
    "\n",
    "'''"
   ]
  },
  {
   "cell_type": "code",
   "execution_count": 5,
   "metadata": {},
   "outputs": [],
   "source": [
    "\n",
    "image = np.zeros((512,512,3) , np.uint8)\n",
    "\n",
    "cv2.putText(image , \"vivek\" , (75,260) , cv2.FONT_HERSHEY_SCRIPT_SIMPLEX, 2, (255,56,89), 3)\n",
    "cv2.imshow(\"welcome to my world\" , image)\n",
    "cv2.waitKey(0)\n",
    "cv2.destroyAllWindows()"
   ]
  }
 ],
 "metadata": {
  "kernelspec": {
   "display_name": "mlproj",
   "language": "python",
   "name": "python3"
  },
  "language_info": {
   "codemirror_mode": {
    "name": "ipython",
    "version": 3
   },
   "file_extension": ".py",
   "mimetype": "text/x-python",
   "name": "python",
   "nbconvert_exporter": "python",
   "pygments_lexer": "ipython3",
   "version": "3.8.18"
  }
 },
 "nbformat": 4,
 "nbformat_minor": 2
}
