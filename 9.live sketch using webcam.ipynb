{
 "cells": [
  {
   "cell_type": "code",
   "execution_count": 6,
   "metadata": {},
   "outputs": [],
   "source": [
    "import cv2\n",
    "import numpy as np"
   ]
  },
  {
   "cell_type": "code",
   "execution_count": 7,
   "metadata": {},
   "outputs": [],
   "source": [
    "def sketch(image):\n",
    "    img_grey = cv2.cvtColor(image, cv2.COLOR_BGR2GRAY)\n",
    "    \n",
    "    #cleaning the image using gaussian blur\n",
    "    img_blur = cv2.GaussianBlur(img_grey, (5,5) ,0)\n",
    "    \n",
    "    #extract edges\n",
    "    canny = cv2.Canny(img_blur , 30 , 70)\n",
    "\n",
    "    #binarize the image\n",
    "    ret , thresh = cv2.threshold(canny , 40, 255 , cv2.THRESH_BINARY_INV) #if we THRESH-BINARY  it will be black , OR IF WE TAKE _INV it will be white \n",
    "\n",
    "    return thresh\n",
    "\n",
    "\n"
   ]
  },
  {
   "cell_type": "code",
   "execution_count": 8,
   "metadata": {},
   "outputs": [],
   "source": [
    "#initialize the webcam\n",
    "\n",
    "cap = cv2.VideoCapture(0)\n",
    "\n",
    "while True:\n",
    "    ret , frame = cap.read()  #ret is a boolean value wheather the image is captured or not \n",
    "    cv2.imshow('vivek' , sketch(frame))\n",
    "    if cv2.waitKey(1) == 13:  #13 is enter key\n",
    "        break\n",
    "\n",
    "cap.release()\n",
    "cv2.destroyAllWindows()"
   ]
  }
 ],
 "metadata": {
  "kernelspec": {
   "display_name": "mlproj",
   "language": "python",
   "name": "python3"
  },
  "language_info": {
   "codemirror_mode": {
    "name": "ipython",
    "version": 3
   },
   "file_extension": ".py",
   "mimetype": "text/x-python",
   "name": "python",
   "nbconvert_exporter": "python",
   "pygments_lexer": "ipython3",
   "version": "3.8.18"
  }
 },
 "nbformat": 4,
 "nbformat_minor": 2
}
