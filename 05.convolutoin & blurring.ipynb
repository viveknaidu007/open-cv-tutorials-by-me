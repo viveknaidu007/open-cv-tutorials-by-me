{
 "cells": [
  {
   "cell_type": "code",
   "execution_count": null,
   "metadata": {},
   "outputs": [],
   "source": [
    "#references : https://en.wikipedia.org/wiki/Kernel_(image_processing)\n",
    "#blurred works in like matrix format "
   ]
  },
  {
   "cell_type": "markdown",
   "metadata": {},
   "source": [
    "#blurring"
   ]
  },
  {
   "cell_type": "code",
   "execution_count": 1,
   "metadata": {},
   "outputs": [],
   "source": [
    "import numpy as np\n",
    "import cv2"
   ]
  },
  {
   "cell_type": "code",
   "execution_count": 2,
   "metadata": {},
   "outputs": [],
   "source": [
    "image = cv2.imread('photos\\cat.jpg')\n",
    "\n",
    "kernel = np.ones((3,3) , np.float32) / 9"
   ]
  },
  {
   "cell_type": "code",
   "execution_count": 3,
   "metadata": {},
   "outputs": [],
   "source": [
    "cv2.imshow('original image' , image)\n",
    "cv2.waitKey()\n",
    "\n",
    "blurred = cv2.filter2D(image , -1 , kernel)\n",
    "cv2.imshow('blurrd image' , blurred)\n",
    "cv2.waitKey()\n",
    "cv2.destroyAllWindows()\n"
   ]
  },
  {
   "cell_type": "code",
   "execution_count": 5,
   "metadata": {},
   "outputs": [],
   "source": [
    "cv2.imshow('original image', image)\n",
    "cv2.waitKey()\n",
    "\n",
    "kernel = np.ones((7,7) , np.float32) / 49\n",
    "\n",
    "blurred = cv2.filter2D(image , -1 , kernel)\n",
    "cv2.imshow('blurred image' , blurred)\n",
    "cv2.waitKey(0)\n",
    "cv2.destroyAllWindows()"
   ]
  },
  {
   "cell_type": "code",
   "execution_count": 6,
   "metadata": {},
   "outputs": [],
   "source": [
    "cv2.imshow('original image' , image)\n",
    "cv2.waitKey()\n",
    "\n",
    "img = cv2.blur(image , (3,3))\n",
    "cv2.imshow('blur' , img)\n",
    "cv2.waitKey(0)\n",
    "\n",
    "img1 = cv2.GaussianBlur(image , (7,7) , 0)\n",
    "cv2.imshow('Gaussian blue' , img1)\n",
    "cv2.waitKey(0)\n",
    "\n",
    "img2 = cv2.medianBlur(image ,5)\n",
    "cv2.imshow('median blur' , img2)\n",
    "cv2.waitKey(0)\n",
    "\n",
    "img3 = cv2.bilateralFilter(image , 9 , 75, 75)\n",
    "cv2.imshow('bilateral filer' , img3)\n",
    "cv2.waitKey(0)\n",
    "cv2.destroyAllWindows()"
   ]
  },
  {
   "cell_type": "markdown",
   "metadata": {},
   "source": [
    "#sharpening"
   ]
  },
  {
   "cell_type": "code",
   "execution_count": 7,
   "metadata": {},
   "outputs": [],
   "source": [
    "import cv2\n",
    "import numpy as np"
   ]
  },
  {
   "cell_type": "code",
   "execution_count": 8,
   "metadata": {},
   "outputs": [],
   "source": [
    "image = cv2.imread('photos\\cat.jpg')\n",
    "sharpening_kernel = np.array([[-1,-1,-1], [-1,9,-1], [-1,-1,-1]])\n"
   ]
  },
  {
   "cell_type": "code",
   "execution_count": 10,
   "metadata": {},
   "outputs": [],
   "source": [
    "cv2.imshow('original image' , image)\n",
    "cv2.waitKey(0)\n",
    "\n",
    "sharpen = cv2.filter2D(image , -1 , sharpening_kernel)\n",
    "cv2.imshow('sharpen image' , sharpen)\n",
    "cv2.waitKey(0)\n",
    "cv2.destroyAllWindows()"
   ]
  },
  {
   "cell_type": "code",
   "execution_count": null,
   "metadata": {},
   "outputs": [],
   "source": []
  }
 ],
 "metadata": {
  "kernelspec": {
   "display_name": "mlproj",
   "language": "python",
   "name": "python3"
  },
  "language_info": {
   "codemirror_mode": {
    "name": "ipython",
    "version": 3
   },
   "file_extension": ".py",
   "mimetype": "text/x-python",
   "name": "python",
   "nbconvert_exporter": "python",
   "pygments_lexer": "ipython3",
   "version": "3.8.18"
  }
 },
 "nbformat": 4,
 "nbformat_minor": 2
}
