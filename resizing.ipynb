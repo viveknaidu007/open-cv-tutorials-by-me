{
 "cells": [
  {
   "cell_type": "code",
   "execution_count": 2,
   "metadata": {},
   "outputs": [],
   "source": [
    "import cv2\n",
    "import numpy as np\n",
    "\n",
    "image = cv2.imread('photos\\cat.jpg')\n",
    "cv2.imshow(\"original image\", image)\n",
    "cv2.waitKey(0)\n",
    "cv2.destroyAllWindows()"
   ]
  },
  {
   "cell_type": "code",
   "execution_count": 4,
   "metadata": {},
   "outputs": [],
   "source": [
    "#for reszing\n",
    "#cv2.resize(image, dsize(output image size), x scale, y scale, interpolation)\n",
    "\n",
    "\n",
    "image = cv2.imread('photos\\cat.jpg')\n",
    "cv2.imshow(\"original image\", image)\n",
    "\n",
    "image_scaled = cv2.resize(image, None, fx=0.5, fy=0.5)\n",
    "cv2.imshow('re-sized image --- linear interpolatoin' , image_scaled)\n",
    "cv2.waitKey()\n",
    "cv2.destroyAllWindows()"
   ]
  },
  {
   "cell_type": "code",
   "execution_count": 9,
   "metadata": {},
   "outputs": [],
   "source": [
    "image = cv2.imread('photos\\cat.jpg')\n",
    "cv2.imshow(\"original image\", image)\n",
    "\n",
    "\n",
    "\n",
    "image_scaled = cv2.resize(image , None, fx=2, fy=2, interpolation = cv2.INTER_CUBIC)\n",
    "cv2.imshow('re-sized image --- linear interpolatoin' , image_scaled)\n",
    "cv2.waitKey()\n",
    "cv2.destroyAllWindows()"
   ]
  },
  {
   "cell_type": "code",
   "execution_count": 10,
   "metadata": {},
   "outputs": [],
   "source": [
    "image = cv2.imread('photos\\cat.jpg')\n",
    "cv2.imshow(\"original image\", image)\n",
    "\n",
    "\n",
    "\n",
    "image_scaled = cv2.resize(image , (500 , 500) ,  interpolation = cv2.INTER_CUBIC)\n",
    "cv2.imshow('re-sized image --- linear interpolatoin' , image_scaled)\n",
    "cv2.waitKey()\n",
    "cv2.destroyAllWindows()"
   ]
  }
 ],
 "metadata": {
  "kernelspec": {
   "display_name": "mlproj",
   "language": "python",
   "name": "python3"
  },
  "language_info": {
   "codemirror_mode": {
    "name": "ipython",
    "version": 3
   },
   "file_extension": ".py",
   "mimetype": "text/x-python",
   "name": "python",
   "nbconvert_exporter": "python",
   "pygments_lexer": "ipython3",
   "version": "3.8.18"
  }
 },
 "nbformat": 4,
 "nbformat_minor": 2
}
