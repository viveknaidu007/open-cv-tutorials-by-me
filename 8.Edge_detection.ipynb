{
 "cells": [
  {
   "cell_type": "code",
   "execution_count": 4,
   "metadata": {},
   "outputs": [],
   "source": [
    "import cv2\n",
    "import numpy as np\n"
   ]
  },
  {
   "cell_type": "code",
   "execution_count": 5,
   "metadata": {},
   "outputs": [],
   "source": [
    "image = cv2.imread('photos\\cat.jpg')\n"
   ]
  },
  {
   "cell_type": "code",
   "execution_count": 16,
   "metadata": {},
   "outputs": [],
   "source": [
    "cv2.imshow('original iamge' , image)\n",
    "cv2.waitKey(0)\n",
    "\n",
    "#extract sobel edges:\n",
    "#detecting edges in x directoin\n",
    "sobel_x = cv2.Sobel(image , cv2.CV_64F , 0, 1 ,ksize=5)\n",
    "#detecting edges in y axis\n",
    "sobel_y = cv2.Sobel(image , cv2.CV_64F , 1 ,0 , ksize=5)\n",
    "\n",
    "cv2.imshow('sobel_x' , sobel_x)\n",
    "cv2.waitKey(0)\n",
    "\n",
    "sobel_OR = cv2.bitwise_or(sobel_x , sobel_y)\n",
    "cv2.imshow('sobel_or' , sobel_y)\n",
    "cv2.waitKey(0)\n",
    "\n",
    "cv2.imshow('sobel_y' , sobel_y)\n",
    "cv2.waitKey(0)\n",
    "\n",
    "#another method\n",
    "#extract laplacian edges\n",
    "laplacian = cv2.Laplacian(image, cv2.CV_64F)\n",
    "cv2.imshow(\"laplacian\" , laplacian)\n",
    "cv2.waitKey(0)\n",
    "\n",
    "\n",
    "#extract canny edges\n",
    "#popular edge detection technique\n",
    "\n",
    "'''we need to provide two values : threshold 1 and threshold 2 . any gradient value larger than threshold 2\n",
    "is considered to be on edge. any value below threshold1 is considered not to be an edge\n",
    "values in between threshold1 and threshold 2 are either classified as edges or non-edges based on how their\n",
    "intensities are \"connected\". in this case, any gradient values below 60 are considered non-edges\n",
    "whereas any values above 120 are considered edges\n",
    "'''\n",
    "canny = cv2.Canny(image , 60 ,120)\n",
    "cv2.imshow('canny edge detection' , canny)\n",
    "cv2.waitKey(0)\n",
    "\n",
    "canny1 = cv2.Canny(image,60 ,170)\n",
    "cv2.imshow('canny edge detection 1' , canny1)\n",
    "cv2.waitKey(0)\n",
    "cv2.destroyAllWindows()\n"
   ]
  }
 ],
 "metadata": {
  "kernelspec": {
   "display_name": "mlproj",
   "language": "python",
   "name": "python3"
  },
  "language_info": {
   "codemirror_mode": {
    "name": "ipython",
    "version": 3
   },
   "file_extension": ".py",
   "mimetype": "text/x-python",
   "name": "python",
   "nbconvert_exporter": "python",
   "pygments_lexer": "ipython3",
   "version": "3.8.18"
  }
 },
 "nbformat": 4,
 "nbformat_minor": 2
}
