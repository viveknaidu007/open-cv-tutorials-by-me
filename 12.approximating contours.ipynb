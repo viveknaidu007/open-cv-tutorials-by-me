{
 "cells": [
  {
   "cell_type": "code",
   "execution_count": 1,
   "metadata": {},
   "outputs": [],
   "source": [
    "import numpy as np\n",
    "import cv2\n"
   ]
  },
  {
   "cell_type": "code",
   "execution_count": 2,
   "metadata": {},
   "outputs": [],
   "source": [
    "image = cv2.imread('photos\\house-for-kids.jpg')\n",
    "\n",
    "cv2.imshow('house image' , image)\n",
    "cv2.waitKey(0)\n",
    "cv2.destroyAllWindows()"
   ]
  },
  {
   "cell_type": "code",
   "execution_count": 3,
   "metadata": {},
   "outputs": [],
   "source": [
    "gray = cv2.cvtColor(image , cv2.COLOR_BGR2GRAY)\n",
    "\n",
    "ret , thresh = cv2.threshold(gray , 127 , 255 , cv2.THRESH_BINARY_INV)\n",
    "\n",
    "contours , hierarchy = cv2.findContours(thresh , cv2.RETR_LIST , cv2.CHAIN_APPROX_NONE)\n",
    "\n",
    "for c in contours:\n",
    "    x,y,w,h = cv2.boundingRect(c)\n",
    "    cv2.rectangle(image , (x,y) , (x+w , y+h) , (0,255,58) , 3)\n",
    "    cv2.imshow('contour image' , image)\n",
    "    cv2.waitKey(0)\n",
    "\n",
    "#cv2.approxPolyDP(contour , Approximation Accuracy , closed)\n",
    "    \n",
    "for c in contours:\n",
    "    accuracy = cv2.arcLength(c , True) * 0.03\n",
    "    approx = cv2.approxPolyDP(c , accuracy, True)\n",
    "    cv2.drawContours(image , [approx] , 0, (0,46,65) , 3)\n",
    "    cv2.imshow('approximated countours' , image)\n",
    "    cv2.waitKey(0)\n",
    "\n",
    "cv2.destroyAllWindows()\n"
   ]
  }
 ],
 "metadata": {
  "kernelspec": {
   "display_name": "mlproj",
   "language": "python",
   "name": "python3"
  },
  "language_info": {
   "name": "python",
   "version": "3.8.18"
  }
 },
 "nbformat": 4,
 "nbformat_minor": 2
}
