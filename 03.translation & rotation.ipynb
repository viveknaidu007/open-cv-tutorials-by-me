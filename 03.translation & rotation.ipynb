{
 "cells": [
  {
   "cell_type": "code",
   "execution_count": 2,
   "metadata": {},
   "outputs": [],
   "source": [
    "import cv2\n",
    "import numpy as np"
   ]
  },
  {
   "cell_type": "code",
   "execution_count": 5,
   "metadata": {},
   "outputs": [],
   "source": [
    "#translation\n",
    "#we are shifting the image according to our requirement\n",
    "\n",
    "image = cv2.imread('photos\\lady.jpg')\n",
    "cv2.imshow(\"original\" , image)\n",
    "cv2.waitKey(0)\n",
    "\n",
    "height, width = image.shape[:2]\n",
    "\n",
    "new_h , new_w = height/4 , width/4\n",
    "\n",
    "T = np.float32([[1,0,new_w] , [0,1,new_h]])\n",
    "\n",
    "img_translation = cv2.warpAffine(image, T , (width, height))\n",
    "\n",
    "cv2.imshow('translation' , img_translation)\n",
    "\n",
    "cv2.waitKey(0)\n",
    "cv2.destroyAllWindows()"
   ]
  },
  {
   "cell_type": "code",
   "execution_count": 1,
   "metadata": {},
   "outputs": [],
   "source": [
    "#rotation\n",
    "\n",
    "import cv2\n",
    "import numpy as np"
   ]
  },
  {
   "cell_type": "code",
   "execution_count": 2,
   "metadata": {},
   "outputs": [],
   "source": [
    "image = cv2.imread('photos\\lady.jpg')\n",
    "cv2.imshow(\"original iamge\" , image)\n",
    "cv2.waitKey(0)\n",
    "\n",
    "\n",
    "cv2.destroyAllWindows()"
   ]
  },
  {
   "cell_type": "code",
   "execution_count": 3,
   "metadata": {},
   "outputs": [],
   "source": [
    "#rotating in this code\n",
    "image = cv2.imread('photos\\lady.jpg')\n",
    "cv2.imshow(\"original iamge\" , image)\n",
    "cv2.waitKey(0)\n",
    "\n",
    "height , width = image.shape[:2]\n",
    "\n",
    "#cv2.getRotationMatrix2D(rotation_center_x, rotation_center_y,angle of rotation,scale)\n",
    "rotation_matrix = cv2.getRotationMatrix2D((width/2, height/2) , 90, .5)\n",
    "\n",
    "rotated_image = cv2.warpAffine(image, rotation_matrix, (width, height))\n",
    "cv2.imshow('rotated image' , rotated_image)\n",
    "cv2.waitKey(0)\n",
    "cv2.destroyAllWindows()"
   ]
  },
  {
   "cell_type": "code",
   "execution_count": null,
   "metadata": {},
   "outputs": [],
   "source": [
    "#cv2.transpose function\n"
   ]
  },
  {
   "cell_type": "code",
   "execution_count": 4,
   "metadata": {},
   "outputs": [],
   "source": [
    "cv2.imshow(\"original image\", image)\n",
    "cv2.waitKey(0)\n",
    "\n",
    "rotated_img = cv2.transpose(image)\n",
    "cv2.imshow(\"rotated image\", rotated_image)\n",
    "cv2.waitKey(0)\n",
    "\n",
    "cv2.destroyAllWindows()"
   ]
  },
  {
   "cell_type": "code",
   "execution_count": 6,
   "metadata": {},
   "outputs": [],
   "source": [
    "#flip the image\n",
    "\n",
    "cv2.imshow(\"orignla image\", image)\n",
    "cv2.waitKey(0)\n",
    "\n",
    "flipped = cv2.flip(image,1)\n",
    "cv2.imshow('flip' , flipped)\n",
    "cv2.waitKey(0)\n",
    "cv2.destroyAllWindows()"
   ]
  }
 ],
 "metadata": {
  "kernelspec": {
   "display_name": "mlproj",
   "language": "python",
   "name": "python3"
  },
  "language_info": {
   "codemirror_mode": {
    "name": "ipython",
    "version": 3
   },
   "file_extension": ".py",
   "mimetype": "text/x-python",
   "name": "python",
   "nbconvert_exporter": "python",
   "pygments_lexer": "ipython3",
   "version": "3.8.18"
  }
 },
 "nbformat": 4,
 "nbformat_minor": 2
}
