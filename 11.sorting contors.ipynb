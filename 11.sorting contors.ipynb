{
 "cells": [
  {
   "cell_type": "code",
   "execution_count": 1,
   "metadata": {},
   "outputs": [],
   "source": [
    "import cv2\n",
    "import numpy as np"
   ]
  },
  {
   "cell_type": "code",
   "execution_count": 2,
   "metadata": {},
   "outputs": [
    {
     "name": "stdout",
     "output_type": "stream",
     "text": [
      "no of contours = 2\n"
     ]
    }
   ],
   "source": [
    "image = cv2.imread('photos\\shapes.jpg')\n",
    "cv2.imshow('original image' , image)\n",
    "cv2.waitKey(0)\n",
    "\n",
    "blank_image = np.zeros((image.shape[0] , image.shape[1] , 3))\n",
    "\n",
    "original_image = image\n",
    "\n",
    "gray = cv2.cvtColor(image , cv2.COLOR_BGR2GRAY)\n",
    "\n",
    "edges = cv2.Canny(gray ,50 ,200)\n",
    "cv2.imshow('edged image' , edges)\n",
    "cv2.waitKey(0)\n",
    "\n",
    "contours , hierarchy = cv2.findContours(edges , cv2.RETR_EXTERNAL , cv2.CHAIN_APPROX_SIMPLE)\n",
    "print('no of contours = ' + str(len(contours)))\n",
    "\n",
    "cv2.drawContours(blank_image , contours , -1 , (0,255,255) , 3)\n",
    "cv2.imshow('blank image contours' , blank_image)\n",
    "cv2.waitKey(0)\n",
    "\n",
    "\n",
    "cv2.destroyAllWindows()\n"
   ]
  },
  {
   "cell_type": "code",
   "execution_count": 4,
   "metadata": {},
   "outputs": [
    {
     "name": "stdout",
     "output_type": "stream",
     "text": [
      "contour areas befor sorting\n",
      "[25926.5, 22172.0]\n",
      "contour area after sorting\n",
      "[25926.5, 22172.0]\n"
     ]
    }
   ],
   "source": [
    "import cv2\n",
    "import numpy as np\n",
    "\n",
    "def get_contour_area(contours):\n",
    "    all_areas =[]\n",
    "\n",
    "    for cnt in contours:\n",
    "        area = cv2.contourArea(cnt)\n",
    "        all_areas.append(area)\n",
    "\n",
    "    return all_areas\n",
    "\n",
    "image = cv2.imread('photos\\whiteandblack.png')\n",
    "\n",
    "original_image = image\n",
    "\n",
    "print('contour areas befor sorting')\n",
    "print(get_contour_area(contours))\n",
    "\n",
    "sorted_contours = sorted(contours , key = cv2.contourArea , reverse = True)\n",
    "\n",
    "print('contour area after sorting')\n",
    "print(get_contour_area(sorted_contours))\n",
    "\n",
    "for c in sorted_contours:\n",
    "    cv2.drawContours(original_image ,[c], -1 , (0,255,255) , 3)\n",
    "    cv2.imshow('comtours by area' , original_image)\n",
    "    cv2.waitKey()\n",
    "\n",
    "cv2.waitKey()\n",
    "cv2.destroyAllWindows()"
   ]
  },
  {
   "cell_type": "code",
   "execution_count": null,
   "metadata": {},
   "outputs": [],
   "source": []
  }
 ],
 "metadata": {
  "kernelspec": {
   "display_name": "mlproj",
   "language": "python",
   "name": "python3"
  },
  "language_info": {
   "codemirror_mode": {
    "name": "ipython",
    "version": 3
   },
   "file_extension": ".py",
   "mimetype": "text/x-python",
   "name": "python",
   "nbconvert_exporter": "python",
   "pygments_lexer": "ipython3",
   "version": "3.8.18"
  }
 },
 "nbformat": 4,
 "nbformat_minor": 2
}
