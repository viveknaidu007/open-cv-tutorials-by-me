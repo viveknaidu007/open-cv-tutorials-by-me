{
 "cells": [
  {
   "cell_type": "code",
   "execution_count": 2,
   "metadata": {},
   "outputs": [],
   "source": [
    "import cv2\n",
    "import numpy as np"
   ]
  },
  {
   "cell_type": "code",
   "execution_count": 5,
   "metadata": {},
   "outputs": [],
   "source": [
    "image = cv2.imread('photos\\whiteandblack.png')"
   ]
  },
  {
   "cell_type": "code",
   "execution_count": 8,
   "metadata": {},
   "outputs": [],
   "source": [
    "cv2.imshow('original imahe' , image)\n",
    "cv2.waitKey(0)\n",
    "\n",
    "#values below 127 goes to 0 (black , everything above goes to 255 (white))\n",
    "_ , thresh1 = cv2.threshold(image , 127, 255 , cv2.THRESH_BINARY)\n",
    "cv2.imshow('threshold image' , thresh1)\n",
    "cv2.waitKey(0)\n",
    "\n",
    "#values below 127 go to 255 and values above 127 go to 0\n",
    "_, thresh2 = cv2.threshold(image , 127 , 255 , cv2.THRESH_BINARY_INV)\n",
    "cv2.imshow('thresh' , thresh2 )\n",
    "cv2.waitKey(0)\n",
    "\n",
    "\n",
    "\n",
    "#values above 127 are truncated (held) at 127 (the 255 argument is unused)\n",
    "_ , thresh3 = cv2.threshold(image , 127 ,255 , cv2.THRESH_TRUNC)\n",
    "cv2.imshow('thresh' , thresh3)\n",
    "cv2.waitKey(0)\n",
    "\n",
    "\n",
    "\n",
    "#values below 127 go to 0, above 127 are unchanged\n",
    "_ , thresh4 = cv2.threshold(image , 127 ,255 , cv2.THRESH_TRUNC)\n",
    "cv2.imshow('thresh' , thresh4)\n",
    "cv2.waitKey(0)\n",
    "\n",
    "\n",
    "#resever of above , below 127 is unchanged , above 127 goes to 0\n",
    "_ , thresh5 = cv2.threshold(image , 127 , 255 , cv2.THRESH_TOZERO_INV)\n",
    "cv2.imshow('thresh to zero' , thresh5)\n",
    "cv2.waitKey(0)\n",
    "\n",
    "cv2.destroyAllWindows()"
   ]
  },
  {
   "cell_type": "code",
   "execution_count": null,
   "metadata": {},
   "outputs": [],
   "source": []
  }
 ],
 "metadata": {
  "kernelspec": {
   "display_name": "mlproj",
   "language": "python",
   "name": "python3"
  },
  "language_info": {
   "codemirror_mode": {
    "name": "ipython",
    "version": 3
   },
   "file_extension": ".py",
   "mimetype": "text/x-python",
   "name": "python",
   "nbconvert_exporter": "python",
   "pygments_lexer": "ipython3",
   "version": "3.8.18"
  }
 },
 "nbformat": 4,
 "nbformat_minor": 2
}
