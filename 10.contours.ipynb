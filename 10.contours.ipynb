{
 "cells": [
  {
   "cell_type": "code",
   "execution_count": 4,
   "metadata": {},
   "outputs": [],
   "source": [
    "import cv2\n",
    "import numpy as np"
   ]
  },
  {
   "cell_type": "code",
   "execution_count": 9,
   "metadata": {},
   "outputs": [
    {
     "name": "stdout",
     "output_type": "stream",
     "text": [
      "total no of contours are :: 140\n"
     ]
    }
   ],
   "source": [
    "image = cv2.imread('photos\\cats 2.jpg')\n",
    "cv2.imshow(\"originla image\" , image)\n",
    "\n",
    "gray = cv2.cvtColor(image , cv2.COLOR_BGR2GRAY)\n",
    "\n",
    "edges = cv2.Canny(gray , 30 , 200)\n",
    "cv2.imshow('edge image' , edges)\n",
    "cv2.waitKey(0)\n",
    "\n",
    "contours , hierarchy = cv2.findContours(edges , cv2.RETR_EXTERNAL , cv2.CHAIN_APPROX_NONE)\n",
    "cv2.imshow('canny edges after contouing' , edges)\n",
    "cv2.waitKey(0)\n",
    "\n",
    "print('total no of contours are :: ' + str(len(contours)))\n",
    "\n",
    "cv2.drawContours(image , contours , -1 , (255,0,255) , 3)\n",
    "cv2.imshow('contours' , image)\n",
    "cv2.waitKey(0)\n",
    "\n",
    "cv2.destroyAllWindows()"
   ]
  }
 ],
 "metadata": {
  "kernelspec": {
   "display_name": "mlproj",
   "language": "python",
   "name": "python3"
  },
  "language_info": {
   "codemirror_mode": {
    "name": "ipython",
    "version": 3
   },
   "file_extension": ".py",
   "mimetype": "text/x-python",
   "name": "python",
   "nbconvert_exporter": "python",
   "pygments_lexer": "ipython3",
   "version": "3.8.18"
  }
 },
 "nbformat": 4,
 "nbformat_minor": 2
}
