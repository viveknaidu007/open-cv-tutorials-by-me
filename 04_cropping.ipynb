{
 "cells": [
  {
   "cell_type": "code",
   "execution_count": 2,
   "metadata": {},
   "outputs": [],
   "source": [
    "import cv2\n",
    "import numpy as np"
   ]
  },
  {
   "cell_type": "code",
   "execution_count": 3,
   "metadata": {},
   "outputs": [],
   "source": [
    "image = cv2.imread('photos\\cat.jpg')\n",
    "\n",
    "#top right adn bottoms left pixel coordinates\n",
    "\n",
    "height , width = image.shape[:2]\n",
    "\n",
    "start_row , start_col = int(height*0.25) , int(width*0.25)\n",
    "end_row , end_col = int(height*0.75) , int(width*0.75)\n",
    "\n",
    "cropped = image[start_row:end_row , start_col:end_col]"
   ]
  },
  {
   "cell_type": "code",
   "execution_count": 4,
   "metadata": {},
   "outputs": [],
   "source": [
    "cv2.imshow('originnal image' , image)\n",
    "cv2.waitKey()\n",
    "cv2.imshow('cropped_image' , cropped)\n",
    "cv2.waitKey()\n",
    "cv2.destroyAllWindows()"
   ]
  }
 ],
 "metadata": {
  "kernelspec": {
   "display_name": "mlproj",
   "language": "python",
   "name": "python3"
  },
  "language_info": {
   "codemirror_mode": {
    "name": "ipython",
    "version": 3
   },
   "file_extension": ".py",
   "mimetype": "text/x-python",
   "name": "python",
   "nbconvert_exporter": "python",
   "pygments_lexer": "ipython3",
   "version": "3.8.18"
  }
 },
 "nbformat": 4,
 "nbformat_minor": 2
}
